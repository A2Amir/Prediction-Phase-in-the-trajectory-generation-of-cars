{
 "cells": [
  {
   "cell_type": "code",
   "execution_count": 12,
   "metadata": {},
   "outputs": [],
   "source": [
    "import numpy as np\n",
    "import random\n",
    "from math import sqrt, pi, exp"
   ]
  },
  {
   "cell_type": "code",
   "execution_count": 13,
   "metadata": {},
   "outputs": [],
   "source": [
    "def gaussian_prob(obs, mu, sig):\n",
    "    num = (obs - mu)**2\n",
    "    denum = 2*sig**2\n",
    "    norm = 1 / sqrt(2*pi*sig**2)\n",
    "    return norm * exp(-num/denum)"
   ]
  },
  {
   "cell_type": "code",
   "execution_count": 126,
   "metadata": {},
   "outputs": [],
   "source": [
    "class GNB():\n",
    "    def __init__(self):\n",
    "        self.classes = ['left', 'keep', 'right']\n",
    "\n",
    "    def process_vars(self,vars):\n",
    "        # could do something fancy in here, but right now\n",
    "        # s, d, s_dot and d_dot alone give good results\n",
    "        s, d, s_dot, d_dot = vars\n",
    "        return s, d, s_dot, d_dot\n",
    "        \n",
    "    def train(self, X, Y):\n",
    "        \"\"\"\n",
    "        X is an array of training data, each entry of which is a \n",
    "        length 4 array which represents a snapshot of a vehicle's\n",
    "        s, d, s_dot, and d_dot coordinates.\n",
    "\n",
    "        Y is an array of labels, each of which is either 'left', 'keep',\n",
    "        or 'right'. These labels indicate what maneuver the vehicle was \n",
    "        engaged in during the corresponding training data snapshot. \n",
    "        \"\"\"\n",
    "\n",
    "        num_vars = 4\n",
    "\n",
    "        # initialize an empty array of arrays. For this problem\n",
    "        # we are looking at three labels and keeping track of 4 \n",
    "        # variables for each (s,d,s_dot,d_dot), so the empty array\n",
    "        # totals_by_label will look like this:\n",
    "\n",
    "        # {\n",
    "        #   \"left\" :[ [],[],[],[] ], \n",
    "        #   \"keep\" :[ [],[],[],[] ], \n",
    "        #   \"right\":[ [],[],[],[] ]  \n",
    "        # }\n",
    "\n",
    "        totals_by_label = {\n",
    "            \"left\" : [], \n",
    "            \"keep\" : [],\n",
    "            \"right\": [],\n",
    "        }\n",
    "        for label in self.classes:\n",
    "            for i in range(num_vars):\n",
    "                totals_by_label[label].append([])\n",
    "\n",
    "        for x, label in zip(X,Y):\n",
    "\n",
    "            # process the raw s,d,s_dot,d_dot snapshot if desired.\n",
    "            x = self.process_vars(x)\n",
    "\n",
    "            # add this data into the appropriate place in the \n",
    "            # totals_by_label data structure.\n",
    "            for i,val in enumerate(x):\n",
    "                totals_by_label[label][i].append(val)\n",
    "        \n",
    "        # Get the mean and standard deviation for each of the arrays\n",
    "        # we've built up. These will be used as our priors in GNB\n",
    "        means = []\n",
    "        stds = []\n",
    "        for i in self.classes:\n",
    "            means.append([])\n",
    "            stds.append([])\n",
    "            for arr in totals_by_label[i]:\n",
    "                mean = np.mean(arr)\n",
    "                std = np.std(arr)\n",
    "                means[-1].append(mean)\n",
    "                stds[-1].append(std)\n",
    "\n",
    "        self._means = means\n",
    "        self._stds = stds\n",
    "        print(stds)\n",
    "\n",
    "        \n",
    "    def _predict(self, obs):\n",
    "        \"\"\"\n",
    "        Private method used to assign a probability to each class.\n",
    "        \"\"\"\n",
    "        probs = []\n",
    "        obs = self.process_vars(obs)\n",
    "        for (means, stds, lab) in zip(self._means, self._stds, self.classes):\n",
    "            product = 1\n",
    "            for mu, sig, o in zip(means, stds, obs):\n",
    "                likelihood = gaussian_prob(o, mu, sig)\n",
    "                product *= likelihood\n",
    "            probs.append(product)\n",
    "        t = sum(probs)\n",
    "        return [p/t for p in probs]\n",
    "\n",
    "    def predict(self, observation):\n",
    "        probs = self._predict(observation)\n",
    "        idx = 0\n",
    "        best_p = 0\n",
    "        for i, p in enumerate(probs):\n",
    "            if p > best_p:\n",
    "                best_p = p\n",
    "                idx = i\n",
    "        names = ['left','keep','right']\n",
    "        return names[idx]"
   ]
  },
  {
   "cell_type": "code",
   "execution_count": 127,
   "metadata": {},
   "outputs": [],
   "source": [
    "gnb=GNB()"
   ]
  },
  {
   "cell_type": "code",
   "execution_count": 128,
   "metadata": {},
   "outputs": [],
   "source": [
    "#f = open(\"./data/train_states.txt\", \"rb\").read().splitlines()\n",
    "X_train=[]\n",
    "Y_train=[]\n",
    "X_test=[]\n",
    "Y_testn=[]\n",
    "with open(\"./data/train_states.txt\", \"r\") as fd:\n",
    "    lines = fd.read().splitlines()\n",
    "    for l in lines:\n",
    "        X_train.append([l])\n",
    "        \n",
    "with open(\"./data/test_states.txt\", \"r\") as fd:\n",
    "    lines = fd.read().splitlines()\n",
    "    for l in lines:\n",
    "        X_test.append([l])\n",
    "        "
   ]
  },
  {
   "cell_type": "code",
   "execution_count": 129,
   "metadata": {},
   "outputs": [
    {
     "name": "stdout",
     "output_type": "stream",
     "text": [
      "750\n",
      "['21.274185669072,1.28216989066405,10.5133706580087,1.20388257591319']\n"
     ]
    }
   ],
   "source": [
    "print(len(X_train))\n",
    "print(X_test[0])"
   ]
  },
  {
   "cell_type": "code",
   "execution_count": null,
   "metadata": {},
   "outputs": [],
   "source": []
  }
 ],
 "metadata": {
  "kernelspec": {
   "display_name": "Python 3",
   "language": "python",
   "name": "python3"
  },
  "language_info": {
   "codemirror_mode": {
    "name": "ipython",
    "version": 3
   },
   "file_extension": ".py",
   "mimetype": "text/x-python",
   "name": "python",
   "nbconvert_exporter": "python",
   "pygments_lexer": "ipython3",
   "version": "3.6.4"
  }
 },
 "nbformat": 4,
 "nbformat_minor": 2
}
